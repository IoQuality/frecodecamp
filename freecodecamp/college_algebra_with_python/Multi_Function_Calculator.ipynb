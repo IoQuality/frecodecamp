{
  "nbformat": 4,
  "nbformat_minor": 0,
  "metadata": {
    "colab": {
      "provenance": [],
      "collapsed_sections": [
        "jVXoY1mmfBjG",
        "FnqxVtNYIA8D",
        "EjxsoAEij2z5",
        "yAR4qoEcj7tv",
        "9n3Rf_u4kVRc",
        "33FosVOV1NBu",
        "rujSYyXZ3AOY",
        "_NVz--_vqAxA",
        "-lFO35p7l3cL",
        "6PeVH4Gx3PE3",
        "D5Z8_9gN39TD",
        "rPT2OymY4HdE",
        "XEf8vCUH4Lc_",
        "EyV2Udzs4MVS",
        "76XeyVVM4NrX",
        "B4WZJ0Iv4O1d",
        "1hru9M7J4P48",
        "cG_JMTeb4Q-E",
        "a6Kr7wKq4SBP",
        "IIb5MHzI4TAU",
        "4VnLdwgZ4WHz",
        "cVC_ENRHfIP4",
        "Llx2Kaau8Dsz",
        "tMa9hDVL85sl",
        "d1WVETzF9-Dv",
        "xmlkOkEc-iqL",
        "98oHO4mh4X3e",
        "xtI0kyR3RpFw",
        "lgqRbYTWTIst"
      ]
    },
    "kernelspec": {
      "name": "python3",
      "display_name": "Python 3"
    },
    "language_info": {
      "name": "python"
    }
  },
  "cells": [
    {
      "cell_type": "markdown",
      "metadata": {
        "id": "EsfO5Q92tL-6"
      },
      "source": [
        "[![freeCodeCamp](https://cdn.freecodecamp.org/testable-projects-fcc/images/fcc_secondary.svg)](https://freecodecamp.org/)"
      ]
    },
    {
      "cell_type": "markdown",
      "metadata": {
        "id": "OikF86Tfxsrq"
      },
      "source": [
        "**Learn Foundational Math 1 by Building an Equation Solver**<br>\n",
        "Each of these steps will lead you toward the Certification Project. First you have to copy the files and set them up in your Google Drive."
      ]
    },
    {
      "cell_type": "markdown",
      "metadata": {
        "id": "szp5flp1fA8-"
      },
      "source": [
        "# &darr; **Do this first** &darr;\n",
        "Make sure you are logged into your Google account, and copy this notebook to your own account. Click \"File\" (at the top of this page) and then click \"Save a copy in Drive.\"  The file will be in a folder called \"Colab Notebooks\" in your Google Drive. "
      ]
    },
    {
      "cell_type": "markdown",
      "source": [
        "#Directions - Click to expand the next step<br>\n",
        "Click on the little <i>triangle</i> next to the word \"Step\" to do that step. Once you complete a step, click the triangle to expand the next step."
      ],
      "metadata": {
        "id": "jVXoY1mmfBjG"
      }
    },
    {
      "cell_type": "markdown",
      "source": [
        "# Step 0 - Acquire the testing library"
      ],
      "metadata": {
        "id": "FnqxVtNYIA8D"
      }
    },
    {
      "cell_type": "markdown",
      "source": [
        "Please run this code to get the library file from FreeCodeCamp. Each step will use this library to test your code. You do not need to edit anything; just run this code cell and wait a few seconds until it tells you to go on to the next step."
      ],
      "metadata": {
        "id": "jGDR7mBeh-ov"
      }
    },
    {
      "cell_type": "code",
      "source": [
        "# You may need to run this cell at the beginning of each new session\n",
        "\n",
        "!pip install requests\n",
        "\n",
        "# This will just take a few seconds\n",
        "\n",
        "import requests\n",
        "\n",
        "# Get the library from GitHub\n",
        "url = 'https://raw.githubusercontent.com/freeCodeCamp/cdn/main/build/math-cert-tests/math-code-test-a.py'\n",
        "r = requests.get(url)\n",
        "\n",
        "# Save the library in a local working directory \n",
        "with open('math_code_test_a.py', 'w') as f:\n",
        "    f.write(r.text)\n",
        "\n",
        "# Now you can import the library\n",
        "import math_code_test_a as test\n",
        "\n",
        "# This will tell you if the code works\n",
        "test.step19()"
      ],
      "metadata": {
        "id": "V88D7Zrei2ym",
        "colab": {
          "base_uri": "https://localhost:8080/"
        },
        "outputId": "6c0b806d-5f30-4b40-f20d-db108fe556d6"
      },
      "execution_count": null,
      "outputs": [
        {
          "output_type": "stream",
          "name": "stdout",
          "text": [
            "Looking in indexes: https://pypi.org/simple, https://us-python.pkg.dev/colab-wheels/public/simple/\n",
            "Requirement already satisfied: requests in /usr/local/lib/python3.9/dist-packages (2.27.1)\n",
            "Requirement already satisfied: certifi>=2017.4.17 in /usr/local/lib/python3.9/dist-packages (from requests) (2022.12.7)\n",
            "Requirement already satisfied: charset-normalizer~=2.0.0 in /usr/local/lib/python3.9/dist-packages (from requests) (2.0.12)\n",
            "Requirement already satisfied: urllib3<1.27,>=1.21.1 in /usr/local/lib/python3.9/dist-packages (from requests) (1.26.15)\n",
            "Requirement already satisfied: idna<4,>=2.5 in /usr/local/lib/python3.9/dist-packages (from requests) (3.4)\n",
            "\n",
            " Test passed. You can go on to the next step.\n"
          ]
        }
      ]
    },
    {
      "cell_type": "markdown",
      "metadata": {
        "id": "EjxsoAEij2z5"
      },
      "source": [
        "# Step 1 - Add"
      ]
    },
    {
      "cell_type": "markdown",
      "metadata": {
        "id": "tYdScbUgkif-"
      },
      "source": [
        "To help you get familiar with Colab notebooks, you will start with the basics. Python uses `+`, `-`, `*`, and `/` for the four math operations: <i>add</i>, <i>subtract</i>, <i>multiply</i>, and <i>divide</i>. When you add two numbers, the result is the <i>sum</i>. Use addition within the `print` statement to get the sum of `a` and `b`. To run the code, you can hit \"shift\" and \"enter\" or you can click the run button (the triangle inside a circle)."
      ]
    },
    {
      "cell_type": "code",
      "metadata": {
        "id": "muuUL56MknVm",
        "colab": {
          "base_uri": "https://localhost:8080/"
        },
        "outputId": "5c974393-a794-4b06-e6d4-ed16bb94393c"
      },
      "source": [
        "a=1\n",
        "b=2\n",
        "\n",
        "# Change the next line to print the sum of a and b\n",
        "print(a + b)\n",
        "\n",
        "\n",
        "# Only change code above this line\n",
        "import math_code_test_a as test\n",
        "test.step01(In[-1].split('# Only change code above this line')[0])"
      ],
      "execution_count": null,
      "outputs": [
        {
          "output_type": "stream",
          "name": "stdout",
          "text": [
            "3\n",
            " \n",
            "Code test passed\n",
            "Go on to the next step\n"
          ]
        }
      ]
    },
    {
      "cell_type": "markdown",
      "metadata": {
        "id": "yAR4qoEcj7tv"
      },
      "source": [
        "# Step 2 - Subtract"
      ]
    },
    {
      "cell_type": "markdown",
      "metadata": {
        "id": "kxpYn-rfjomx"
      },
      "source": [
        "When you subtract two numbers, the result is the <i>difference</i>. Use subtraction in the print statement to get the difference between `c` and `d`. Remember to use \"shift\" and \"enter\" to run the code.\n"
      ]
    },
    {
      "cell_type": "code",
      "metadata": {
        "id": "cLscGSGcjtPM",
        "colab": {
          "base_uri": "https://localhost:8080/"
        },
        "outputId": "c8003384-b455-49dd-9ea8-a958ecf761b0"
      },
      "source": [
        "c = 7\n",
        "d = 3\n",
        "\n",
        "# Change the next line to print the positive difference between c and d\n",
        "print(c - d)\n",
        "\n",
        "\n",
        "# Only change code above this line\n",
        "import math_code_test_a as test\n",
        "test.step02(In[-1].split('# Only change code above this line')[0])"
      ],
      "execution_count": null,
      "outputs": [
        {
          "output_type": "stream",
          "name": "stdout",
          "text": [
            "4\n",
            " \n",
            "Code test passed\n",
            "Go on to the next step\n"
          ]
        }
      ]
    },
    {
      "cell_type": "markdown",
      "metadata": {
        "id": "9n3Rf_u4kVRc"
      },
      "source": [
        "# Step 3 - Multiply"
      ]
    },
    {
      "cell_type": "markdown",
      "metadata": {
        "id": "upss2rbrkNE3"
      },
      "source": [
        "When you multiply numbers, the result is the <i>product</i>. Use multiplication within the print statement to get the product of `e` and `f`:\n"
      ]
    },
    {
      "cell_type": "code",
      "metadata": {
        "id": "riH3m4YekQNk",
        "colab": {
          "base_uri": "https://localhost:8080/"
        },
        "outputId": "11fcde33-e499-4264-ab58-37dd0a950b64"
      },
      "source": [
        "e = 2\n",
        "f = 4\n",
        "\n",
        "# Change the next line to print the product of e and f\n",
        "print(e * f)\n",
        "\n",
        "\n",
        "# Only change code above this line\n",
        "import math_code_test_a as test\n",
        "test.step03(In[-1].split('# Only change code above this line')[0])"
      ],
      "execution_count": null,
      "outputs": [
        {
          "output_type": "stream",
          "name": "stdout",
          "text": [
            "8\n",
            " \n",
            "Code test passed\n",
            "Go on to the next step\n"
          ]
        }
      ]
    },
    {
      "cell_type": "markdown",
      "metadata": {
        "id": "33FosVOV1NBu"
      },
      "source": [
        "# Step 4 - Divide\n"
      ]
    },
    {
      "cell_type": "markdown",
      "metadata": {
        "id": "odHJk50S1V05"
      },
      "source": [
        "When you divide two numbers, the result is the <i>quotient</i>. Use division within the print statement to get the quotient of `g` and `h`:"
      ]
    },
    {
      "cell_type": "code",
      "metadata": {
        "id": "5YWS8tuA1UMc",
        "colab": {
          "base_uri": "https://localhost:8080/"
        },
        "outputId": "cdf8b155-1967-43b6-bb01-d1003f891cfe"
      },
      "source": [
        "g = 8\n",
        "h = 4\n",
        "\n",
        "# Change the next line\n",
        "if h !=0:\n",
        "    print(g/h)\n",
        "\n",
        "\n",
        "# Only change code above this line\n",
        "import math_code_test_a as test\n",
        "test.step04(In[-1].split('# Only change code above this line')[0])"
      ],
      "execution_count": null,
      "outputs": [
        {
          "output_type": "stream",
          "name": "stdout",
          "text": [
            "2.0\n",
            " \n",
            "Code test passed\n",
            "Go on to the next step\n"
          ]
        }
      ]
    },
    {
      "cell_type": "markdown",
      "metadata": {
        "id": "rujSYyXZ3AOY"
      },
      "source": [
        "# Step 5 - Cast Input"
      ]
    },
    {
      "cell_type": "markdown",
      "metadata": {
        "id": "ttrSrlGh3CK8"
      },
      "source": [
        "User input comes in as a <i>string</i>, so you need to cast it as an <i>integer</i> or a <i>float</i> before doing any math. The code below asks for input and uses `int()` to cast it as an integer. Follow the model and cast the second variable as an integer. Then run the code an test it. (Remember to hit \"enter\" after you type each integer in the box.)\n"
      ]
    },
    {
      "cell_type": "code",
      "metadata": {
        "id": "fWYQrvOP3Cif",
        "colab": {
          "base_uri": "https://localhost:8080/"
        },
        "outputId": "9f6dd47e-f791-4637-a0a8-bbe679547ffa"
      },
      "source": [
        "strA = input('Enter a positive integer: ')\n",
        "intA = int(strA)\n",
        "\n",
        "strB = input('Enter another positive integer: ')\n",
        "\n",
        "# Change the next line but keep the variable name:\n",
        "intB = int(strB)\n",
        "\n",
        "\n",
        "print(intA+intB)\n",
        "\n",
        "\n",
        "# Only change code above this line\n",
        "import math_code_test_a as test\n",
        "test.step05(In[-1].split('# Only change code above this line')[0])"
      ],
      "execution_count": null,
      "outputs": [
        {
          "output_type": "stream",
          "name": "stdout",
          "text": [
            "Enter a positive integer: 4\n",
            "Enter another positive integer: 6\n",
            "10\n",
            " \n",
            "Code test passed\n",
            "Go on to the next step\n"
          ]
        }
      ]
    },
    {
      "cell_type": "markdown",
      "source": [
        "#Step 6 - Input and cast on the same line"
      ],
      "metadata": {
        "id": "_NVz--_vqAxA"
      }
    },
    {
      "cell_type": "markdown",
      "source": [
        "You can prompt for input and cast that input on the same line. Notice the nested functions in the first line of code. Follow that model to prompt for input and cast that input as an integer on the same line."
      ],
      "metadata": {
        "id": "M7tIwnUdqUBp"
      }
    },
    {
      "cell_type": "code",
      "source": [
        "intA = int(input('Enter an integer: '))\n",
        "\n",
        "# Change the next line but keep the variable name:\n",
        "intB = int(input('Enter an integer: '))\n",
        "\n",
        "\n",
        "print(intA+intB)\n",
        "\n",
        "\n",
        "# Only change code above this line\n",
        "import math_code_test_a as test\n",
        "test.step06(In[-1].split('# Only change code above this line')[0])"
      ],
      "metadata": {
        "id": "I9a4sf1aqYZd",
        "colab": {
          "base_uri": "https://localhost:8080/"
        },
        "outputId": "6daabd86-eaac-46ec-f81c-4924de8026aa"
      },
      "execution_count": null,
      "outputs": [
        {
          "output_type": "stream",
          "name": "stdout",
          "text": [
            "Enter an integer: 5\n",
            "Enter an integer: 8\n",
            "13\n",
            " \n",
            "Code test passed\n",
            "Go on to the next step\n"
          ]
        }
      ]
    },
    {
      "cell_type": "markdown",
      "source": [
        "#Step 7 - Float numbers"
      ],
      "metadata": {
        "id": "-lFO35p7l3cL"
      }
    },
    {
      "cell_type": "markdown",
      "source": [
        "A <i>float</i> number allows decimal places. When prompting for a number as input, casting that as a <i>float</i> is usually the best choice. Follow the model below to prompt for input and cast that input as a <i>float</i> on the same line."
      ],
      "metadata": {
        "id": "Qb0X7hCIl5yO"
      }
    },
    {
      "cell_type": "code",
      "source": [
        "a = float(input('Enter a number: '))\n",
        "\n",
        "# Change the next line but keep the variable name:\n",
        "b = float(input('Enter a number: '))\n",
        "\n",
        "if b != 0:\n",
        "    print(a/b)\n",
        "\n",
        "\n",
        "# Only change code above this line\n",
        "import math_code_test_a as test\n",
        "test.step07(In[-1].split('# Only change code above this line')[0])"
      ],
      "metadata": {
        "id": "tKFaQlQ4l8ti",
        "colab": {
          "base_uri": "https://localhost:8080/"
        },
        "outputId": "e76deb66-db5a-40bb-f424-5cfe749a5408"
      },
      "execution_count": null,
      "outputs": [
        {
          "output_type": "stream",
          "name": "stdout",
          "text": [
            "Enter a number: 123\n",
            "Enter a number: 123\n",
            "1.0\n",
            " \n",
            "Code test passed\n",
            "Go on to the next step\n"
          ]
        }
      ]
    },
    {
      "cell_type": "markdown",
      "metadata": {
        "id": "6PeVH4Gx3PE3"
      },
      "source": [
        "# Step 8 - Order of Operations"
      ]
    },
    {
      "cell_type": "markdown",
      "metadata": {
        "id": "tComwmxt3UuP"
      },
      "source": [
        "You may have heard of the <b>order of operations</b> and the acronym <b>PEMDAS</b>, which reminds you of the correct order. This means that you do what is in <b>Parentheses</b> first, then simplify <b>Exponents</b>. You then do all of the <b>Multiplication</b> and <b>Division</b> together, as long as you work from left to right and simplify them in order. The same is true of <b>Addition</b> and <b>Subtraction</b>: work from left to right and simplify the one the comes up next. Python knows the order of operations. In the following code, Python will calculate the actual_answer correctly. Notice the use of `**` to indicate an exponent. Do the arithmetic in your head (no writing code) and change the `your_answer` variable, then run the code to see if your_answer matches the actual_answer."
      ]
    },
    {
      "cell_type": "code",
      "metadata": {
        "id": "d-3CdCL53VHA",
        "colab": {
          "base_uri": "https://localhost:8080/"
        },
        "outputId": "6612a051-124e-4f20-b069-a910cea18eb8"
      },
      "source": [
        "actual_answer = (1+4*2-14/2)**3\n",
        "\n",
        "# Put your answer on the following line:\n",
        "your_answer = 8\n",
        "\n",
        "print('Actual answer is ', actual_answer)\n",
        "print('Your answer is ', your_answer)\n",
        "\n",
        "\n",
        "# Only change code above this line\n",
        "import math_code_test_a as test\n",
        "test.step08(your_answer)"
      ],
      "execution_count": null,
      "outputs": [
        {
          "output_type": "stream",
          "name": "stdout",
          "text": [
            "Actual answer is  8.0\n",
            "Your answer is  8\n",
            " \n",
            "Code test passed\n",
            "Go on to the next step\n"
          ]
        }
      ]
    },
    {
      "cell_type": "markdown",
      "metadata": {
        "id": "D5Z8_9gN39TD"
      },
      "source": [
        "# Step 9 - Remainder and Modulus"
      ]
    },
    {
      "cell_type": "markdown",
      "metadata": {
        "id": "IBEwjqML39TH"
      },
      "source": [
        "A <i>remainder</i> is what is left over when you try to divide two numbers and it doesn’t divide evenly. The remainder of 10 / 4 is 2 because 4 goes into 10 two whole times, with 2 left over. The <i>modulus</i> (`%`) operator will output the remainder, so `10 % 4` will return 2. Use the modulus operator to find the remainder of a divided by b:"
      ]
    },
    {
      "cell_type": "code",
      "metadata": {
        "id": "EonWJtHS39TI",
        "colab": {
          "base_uri": "https://localhost:8080/"
        },
        "outputId": "74ae2671-9eb9-4f1b-9de1-0736a05b9785"
      },
      "source": [
        "a = 14\n",
        "b = 6\n",
        "\n",
        "# Change this line\n",
        "print(a%b)\n",
        "\n",
        "\n",
        "# Only change code above this line\n",
        "import math_code_test_a as test\n",
        "test.step09(In[-1].split('# Only change code above this line')[0])"
      ],
      "execution_count": null,
      "outputs": [
        {
          "output_type": "stream",
          "name": "stdout",
          "text": [
            "2\n",
            " \n",
            "Code test passed\n",
            "Go on to the next step\n"
          ]
        }
      ]
    },
    {
      "cell_type": "markdown",
      "metadata": {
        "id": "rPT2OymY4HdE"
      },
      "source": [
        "# Step 10 - Modulus and Factors"
      ]
    },
    {
      "cell_type": "markdown",
      "metadata": {
        "id": "Ct7JeTNm4HdF"
      },
      "source": [
        "Use an `if` statement with the modulus operator to find out if one number is a factor of another. For example, to see if 5 is a factor of 20, you can test `if 20 % 5 == 0`. If there's no remainder, the second number is a factor of the first. Remember that Python comparisons use `==` to test values. Remember that the `if` statement ends in a colon (`:`) and the resulting block is indented four spaces. Finish the code below to print \"true\" if `test_factor` is a factor of `number` and print \"false\" if it is not."
      ]
    },
    {
      "cell_type": "code",
      "metadata": {
        "id": "fRe04K3a4HdF",
        "colab": {
          "base_uri": "https://localhost:8080/"
        },
        "outputId": "94ced84c-0184-49cf-bcea-b6a5acf52f18"
      },
      "source": [
        "number = int(input('Enter an integer: '))\n",
        "test_factor = int(input('Enter an integer to see if it’s a factor: '))\n",
        "\n",
        "# Change the next line to test the factor:\n",
        "if number % test_factor == 0:\n",
        "    print('true')\n",
        "else:\n",
        "    print('false')\n",
        "\n",
        "\n",
        "# Only change code above this line\n",
        "import math_code_test_a as test\n",
        "test.step10(In[-1].split('# Only change code above this line')[0])"
      ],
      "execution_count": null,
      "outputs": [
        {
          "output_type": "stream",
          "name": "stdout",
          "text": [
            "Enter an integer: 19\n",
            "Enter an integer to see if it’s a factor: 4\n",
            "false\n",
            " \n",
            "Code test passed\n",
            "Go on to the next step\n"
          ]
        }
      ]
    },
    {
      "cell_type": "markdown",
      "metadata": {
        "id": "yED2Dox44JYj"
      },
      "source": [
        "# Step 11 - Finding Factors"
      ]
    },
    {
      "cell_type": "markdown",
      "metadata": {
        "id": "oMQEeGVI4JYk"
      },
      "source": [
        "Now you will find all of the factors of a number. This code has a loop with a variable, `test_factor`, that iterates through a defined range. Remember that the first line defining the loop ends in a colon (:) and each line in the loop requires a four-space indent. Change the `if` statement to find all the factors of `number`."
      ]
    },
    {
      "cell_type": "code",
      "metadata": {
        "id": "YQqur5gF4JYk",
        "colab": {
          "base_uri": "https://localhost:8080/"
        },
        "outputId": "2a055512-b01a-46ad-d343-9d93414e81a2"
      },
      "source": [
        "number = int(input('Enter an integer: '))\n",
        "\n",
        "# Only change the if statement:\n",
        "for test_factor in range(1, number+1):\n",
        "    if number % test_factor == 0:\n",
        "        print(test_factor)\n",
        "        \n",
        "\n",
        "# Only change code above this line\n",
        "import math_code_test_a as test\n",
        "test.step11(In[-1].split('# Only change code above this line')[0])"
      ],
      "execution_count": null,
      "outputs": [
        {
          "output_type": "stream",
          "name": "stdout",
          "text": [
            "Enter an integer: 50\n",
            "1\n",
            "2\n",
            "5\n",
            "10\n",
            "25\n",
            "50\n",
            " \n",
            "Code test passed\n",
            "Go on to the next step\n"
          ]
        }
      ]
    },
    {
      "cell_type": "markdown",
      "metadata": {
        "id": "uQdfUUlw4Kfg"
      },
      "source": [
        "# Step 12 - Prime Numbers"
      ]
    },
    {
      "cell_type": "markdown",
      "metadata": {
        "id": "ngn_lXfv4Kfh"
      },
      "source": [
        "A <i>prime</i> number is a number whose only factors are 1 and itself. The number 5 is prime because its only factors are 1 and 5, but the 6 is not prime because it has 1, 2, 3, and 6 as factors. Any number that is not a prime is a <i>composite</i>. For each iteration in the loop, `test_number` will be a possible factor. Change the `if` statement so that the code prints \"composite\" if `number` is not prime."
      ]
    },
    {
      "cell_type": "code",
      "metadata": {
        "id": "9q6wtSTg4Kfh",
        "colab": {
          "base_uri": "https://localhost:8080/"
        },
        "outputId": "64856395-99cf-4fd9-fc42-faac95bbfa0b"
      },
      "source": [
        "number = int(input(\"Enter a positive integer: \"))\n",
        "\n",
        "prime_or_comp = \"prime\"\n",
        "\n",
        "for test_number in range(2,number):\n",
        "    # Change the if statement to test one factor here:\n",
        "    if number % test_number == 0:\n",
        "        prime_or_comp = \"composite\" \n",
        "        break\n",
        "\n",
        "print(prime_or_comp)\n",
        "\n",
        "\n",
        "# Only change code above this line\n",
        "import math_code_test_a as test\n",
        "test.step12(In[-1].split('# Only change code above this line')[0])"
      ],
      "execution_count": null,
      "outputs": [
        {
          "output_type": "stream",
          "name": "stdout",
          "text": [
            "Enter a positive integer: 123\n",
            "composite\n",
            " \n",
            "Code test passed\n",
            "Go on to the next step\n"
          ]
        }
      ]
    },
    {
      "cell_type": "markdown",
      "metadata": {
        "id": "XEf8vCUH4Lc_"
      },
      "source": [
        "# Step 13 - Reciprocals"
      ]
    },
    {
      "cell_type": "markdown",
      "metadata": {
        "id": "QrV7DGum4Lc_"
      },
      "source": [
        "A *reciprocal* is a number \"flipped.\" The reciprocal of $\\frac{2}{3}$ is $\\frac{3}{2}$ and the reciprocal of 5 is $\\frac{1}{5}$ because whole numbers have denominators of 1. You can multiply a number by its reciprocal to get 1, so 5 * $\\frac{1}{5}$ = 1 and $\\frac{2}{3}$ * $\\frac{3}{2}$ = 1. To get the reciprocal of a number, take 1 divided by that number. Trying to get the reciprocal of zero will lead to a \"divide by zero\" error. Use a print statement to output the reciprocal of `n` as a decimal. "
      ]
    },
    {
      "cell_type": "code",
      "metadata": {
        "id": "rwExvDuM4LdA",
        "colab": {
          "base_uri": "https://localhost:8080/"
        },
        "outputId": "c6814d0c-23ad-4342-a57c-84bd633b54ed"
      },
      "source": [
        "n = float(input('Enter a number: '))\n",
        "\n",
        "# Write your code here\n",
        "if n == 0:\n",
        "    print(n)\n",
        "else:\n",
        "    print(1/n)\n",
        "\n",
        "\n",
        "# Only change code above this line\n",
        "import math_code_test_a as test\n",
        "test.step13(In[-1].split('# Only change code above this line')[0])"
      ],
      "execution_count": null,
      "outputs": [
        {
          "output_type": "stream",
          "name": "stdout",
          "text": [
            "Enter a number: 1.5\n",
            "0.6666666666666666\n",
            " \n",
            "Code test passed\n",
            "Go on to the next step\n"
          ]
        }
      ]
    },
    {
      "cell_type": "markdown",
      "metadata": {
        "id": "EyV2Udzs4MVS"
      },
      "source": [
        "# Step 14 - Splitting input"
      ]
    },
    {
      "cell_type": "markdown",
      "metadata": {
        "id": "_GoKZbiS4MVS"
      },
      "source": [
        "The code below asks for two integers, separated by a comma, then splits the input at the comma. Notice the input remains a string, then the `split()` function creates an array with two elements. Finish the following code to cast the two variables `a` and `b` as `float` numbers, then divide the two numbers and print the result."
      ]
    },
    {
      "cell_type": "code",
      "metadata": {
        "id": "axr86XQ04MVS",
        "colab": {
          "base_uri": "https://localhost:8080/"
        },
        "outputId": "d0784ef3-6349-4ebf-9aef-576583e670da"
      },
      "source": [
        "nums = input('Enter two numbers, separated by a comma: ')\n",
        "sp = nums.split(\",\")\n",
        "\n",
        "# Use the next line as a model:\n",
        "a = float(sp[0])\n",
        "\n",
        "# Change the next line to cast the number as a float:\n",
        "b = float(sp[1])\n",
        "\n",
        "# Change the print statement:\n",
        "if b != 0:\n",
        "    print(a/b)\n",
        "\n",
        "\n",
        "# Only change code above this line\n",
        "import math_code_test_a as test\n",
        "test.step14(In[-1].split('# Only change code above this line')[0])"
      ],
      "execution_count": null,
      "outputs": [
        {
          "output_type": "stream",
          "name": "stdout",
          "text": [
            "Enter two numbers, separated by a comma: 123,123\n",
            "1.0\n",
            " \n",
            "Code test passed\n",
            "Go on to the next step\n"
          ]
        }
      ]
    },
    {
      "cell_type": "markdown",
      "metadata": {
        "id": "76XeyVVM4NrX"
      },
      "source": [
        "# Step 15 - Square Numbers"
      ]
    },
    {
      "cell_type": "markdown",
      "metadata": {
        "id": "cNCxDnCt4NrX"
      },
      "source": [
        "One factor multiplied by itself will produce a <i>square</i> number, so a number raised to an exponent of 2 is that number <i>squared</i> (like calculating the area of a square). Python uses `**` to indicate exponents. Complete the code to print the square of the input."
      ]
    },
    {
      "cell_type": "code",
      "metadata": {
        "id": "ZyikhBYd4NrX",
        "colab": {
          "base_uri": "https://localhost:8080/"
        },
        "outputId": "cfb2db50-b6da-4c7d-9110-edafd3f4468d"
      },
      "source": [
        "n = float(input('Enter a number to square: '))\n",
        "\n",
        "# Change this line of code:\n",
        "print(n**2)\n",
        "\n",
        "\n",
        "# Only change code above this line\n",
        "import math_code_test_a as test\n",
        "test.step15(In[-1].split('# Only change code above this line')[0])"
      ],
      "execution_count": null,
      "outputs": [
        {
          "output_type": "stream",
          "name": "stdout",
          "text": [
            "Enter a number to square: -3\n",
            "9.0\n",
            " \n",
            "Code test passed\n",
            "Go on to the next step\n"
          ]
        }
      ]
    },
    {
      "cell_type": "markdown",
      "metadata": {
        "id": "B4WZJ0Iv4O1d"
      },
      "source": [
        "# Step 16 - Square Root Function"
      ]
    },
    {
      "cell_type": "markdown",
      "metadata": {
        "id": "R3RBO7tF4O1d"
      },
      "source": [
        "You can find the square root of a number with the `sqrt()` function. To use this function, you need to import the math library. This library enables you to use many functions, as you will see in later steps. To get the square root of x, you would write `math.sqrt(x)`. Complete the code to print the square root of a number."
      ]
    },
    {
      "cell_type": "code",
      "metadata": {
        "id": "MSkW_Md24O1d",
        "colab": {
          "base_uri": "https://localhost:8080/"
        },
        "outputId": "e59065c1-d20b-4954-ec87-4aeb673379d5"
      },
      "source": [
        "import math\n",
        "\n",
        "n = float(input('Enter a number to find the square root: '))\n",
        "\n",
        "# Change the next line of code:\n",
        "if n>= 0:\n",
        "    print(math.sqrt(n))\n",
        "\n",
        "\n",
        "# Only change code above this line\n",
        "import math_code_test_a as test\n",
        "test.step16(In[-1].split('# Only change code above this line')[0])"
      ],
      "execution_count": null,
      "outputs": [
        {
          "output_type": "stream",
          "name": "stdout",
          "text": [
            "Enter a number to find the square root: 0\n",
            "0.0\n",
            " \n",
            "Code test passed\n",
            "Go on to the next step\n"
          ]
        }
      ]
    },
    {
      "cell_type": "markdown",
      "metadata": {
        "id": "1hru9M7J4P48"
      },
      "source": [
        "# Step 17 - Floor Function"
      ]
    },
    {
      "cell_type": "markdown",
      "metadata": {
        "id": "VG-12xT94P48"
      },
      "source": [
        "The`floor()` function drops any decimals and sometimes is called the <i>integer part</i> of a number. Complete the code to print the floor of a number. Notice you `import math` and use `math.floor(n)`  "
      ]
    },
    {
      "cell_type": "code",
      "metadata": {
        "id": "F-c0gsQL4P48",
        "colab": {
          "base_uri": "https://localhost:8080/"
        },
        "outputId": "6bd8b68a-48de-437e-c232-821f29faca07"
      },
      "source": [
        "import math\n",
        "\n",
        "n = float(input('Enter a number with decimal places: '))\n",
        "\n",
        "# Change the next line of code:\n",
        "print(math.floor(n))\n",
        "\n",
        "\n",
        "# Only change code above this line\n",
        "import math_code_test_a as test\n",
        "test.step17(In[-1].split('# Only change code above this line')[0])"
      ],
      "execution_count": null,
      "outputs": [
        {
          "output_type": "stream",
          "name": "stdout",
          "text": [
            "Enter a number with decimal places: 123.3\n",
            "123\n",
            " \n",
            "Code test passed\n",
            "Go on to the next step\n"
          ]
        }
      ]
    },
    {
      "cell_type": "markdown",
      "metadata": {
        "id": "cG_JMTeb4Q-E"
      },
      "source": [
        "# Step 18 - Finding Square Factors"
      ]
    },
    {
      "cell_type": "markdown",
      "metadata": {
        "id": "oN6isUiz4Q-E"
      },
      "source": [
        "This step will combine a few things you have already done. Remember that a square number is an integer that is the result of multiplying another integer by itself. Just as you created a loop to find factors of an integer, here you will find the greatest factor that is a perfect square. For example, 2 is a factor of 16, but 2 is not a square number, while 4 is a factor and it is a square number, but it is not the greatest square factor. The greatest square factor of 16 is 16. The greatest square factor of 32 is 16. Complete `if` statement in the loop to find the greatest square factor of a number. "
      ]
    },
    {
      "cell_type": "code",
      "metadata": {
        "id": "SRbIgfWr4Q-E",
        "colab": {
          "base_uri": "https://localhost:8080/"
        },
        "outputId": "77421845-c885-41c0-a972-4c9beb73051d"
      },
      "source": [
        "import math\n",
        "\n",
        "n = int(input('Enter an integer to find the greatest square factor: '))\n",
        "\n",
        "upper_limit = math.floor(math.sqrt(n)) + 1\n",
        "\n",
        "# Change one line in this loop:\n",
        "for maybe_factor in range(upper_limit, 0, -1):\n",
        "    if n % (maybe_factor**2) == 0:\n",
        "        max_factor = maybe_factor\n",
        "        break\n",
        "\n",
        "# Keep this print statement:\n",
        "print(max_factor**2)\n",
        "\n",
        "\n",
        "# Only change code above this line\n",
        "import math_code_test_a as test\n",
        "test.step18(In[-1].split('# Only change code above this line')[0])"
      ],
      "execution_count": null,
      "outputs": [
        {
          "output_type": "stream",
          "name": "stdout",
          "text": [
            "Enter an integer to find the greatest square factor: 3\n",
            "1\n",
            " \n",
            "Code test passed\n",
            "Go on to the next step\n"
          ]
        }
      ]
    },
    {
      "cell_type": "markdown",
      "metadata": {
        "id": "a6Kr7wKq4SBP"
      },
      "source": [
        "# Step 19 - Dividing out Factors "
      ]
    },
    {
      "cell_type": "markdown",
      "metadata": {
        "id": "dlB9GF164SBP"
      },
      "source": [
        "Building upon your code from the previous step, this code will divide out the greatest square factor of a number. You don't need to change anything; just run the code below a few times, inputting different numbers each time."
      ]
    },
    {
      "cell_type": "code",
      "metadata": {
        "id": "0KCr-ImL4SBQ",
        "colab": {
          "base_uri": "https://localhost:8080/"
        },
        "outputId": "536dc77e-f926-437c-9bb0-d0d83753c463"
      },
      "source": [
        "import math\n",
        "\n",
        "n = int(input('Enter an integer to factor: '))\n",
        "upper_limit = math.floor(math.sqrt(n)) + 1\n",
        "square_root = 1\n",
        "other_factor = 1\n",
        "\n",
        "# Notice what the loop is doing here\n",
        "for maybe_factor in range(upper_limit, 0, 1):\n",
        "    # Check for square factors\n",
        "    if n % (maybe_factor**2) == 0:\n",
        "        # Find the greatest square factor\n",
        "        max_factor = maybe_factor**2\n",
        "        break\n",
        "\n",
        "# Divide out the greatest square factor\n",
        "other_factor = n/max_factor\n",
        "\n",
        "# Display the results \n",
        "print(\"\", n, \" = \", max_factor, \" * \", other_factor)\n",
        "\n",
        "\n",
        "# Only change code above this line\n",
        "import math_code_test_a as test\n",
        "test.step19()"
      ],
      "execution_count": null,
      "outputs": [
        {
          "output_type": "stream",
          "name": "stdout",
          "text": [
            "Enter an integer to factor: 6\n",
            " 6  =  1  *  6.0\n",
            "\n",
            " Test passed. You can go on to the next step.\n"
          ]
        }
      ]
    },
    {
      "cell_type": "markdown",
      "metadata": {
        "id": "IIb5MHzI4TAU"
      },
      "source": [
        "# Step 20 - Factoring Square Roots"
      ]
    },
    {
      "cell_type": "markdown",
      "metadata": {
        "id": "F9mLn2vR4TAU"
      },
      "source": [
        "The last four steps prepared you for this. To factor a square root, you want to divide out any perfect square factors. For example:<br>\n",
        " $\\sqrt{12}$ = $\\sqrt{4 * 3}$ = 2$\\sqrt{3}$<br>\n",
        "Because 4 is a square number, the square root of 4 is now outside the radical.\n",
        "You will import `sympy` and `symbols` to use the radical ($\\sqrt{x}$) in the output. Use the code from the previous step (without changing much). Your goal is to ask for a number and output the factored square root. The radical formatting (using sympy and symbols) is already done for you."
      ]
    },
    {
      "cell_type": "code",
      "metadata": {
        "id": "ucg7J-8m4TAU",
        "colab": {
          "base_uri": "https://localhost:8080/",
          "height": 108
        },
        "outputId": "728b7f9d-ff8c-42dd-aec1-faeef3e3cb1c"
      },
      "source": [
        "import math\n",
        "import sympy\n",
        "from sympy import symbols\n",
        "\n",
        "n = int(input('Without the radical, enter a square root to factor: '))\n",
        "\n",
        "# Use these variables\n",
        "upper_limit = math.floor(math.sqrt(n)) + 1\n",
        "other_factor = 1\n",
        "square_root = 1\n",
        "\n",
        "# Notice what the loop is doing here\n",
        "for maybe_factor in range(upper_limit, 0, -1):\n",
        "    if n % (maybe_factor**2) == 0:\n",
        "        max_factor = maybe_factor**2\n",
        "        break\n",
        "\n",
        "# Divide out the greatest square factor\n",
        "other_factor = n/max_factor\n",
        "\n",
        "# Output - keep this:\n",
        "square_root = int(math.sqrt(max_factor))\n",
        "other_factor = int(other_factor)\n",
        "output = square_root*sympy.sqrt(other_factor)\n",
        "\n",
        "\n",
        "# Only change code above this line\n",
        "import math_code_test_a as test\n",
        "test.step20()\n",
        "output"
      ],
      "execution_count": null,
      "outputs": [
        {
          "output_type": "stream",
          "name": "stdout",
          "text": [
            "Without the radical, enter a square root to factor: 8\n",
            "\n",
            " Test passed. This is this your factored square root:\n",
            "\n"
          ]
        },
        {
          "output_type": "execute_result",
          "data": {
            "text/plain": [
              "2*sqrt(2)"
            ],
            "text/latex": "$\\displaystyle 2 \\sqrt{2}$"
          },
          "metadata": {},
          "execution_count": 52
        }
      ]
    },
    {
      "cell_type": "markdown",
      "metadata": {
        "id": "4VnLdwgZ4WHz"
      },
      "source": [
        "# Step 21 - Rounding"
      ]
    },
    {
      "cell_type": "markdown",
      "metadata": {
        "id": "3fxJA-yI4WH0"
      },
      "source": [
        "If you only want a certain number of decimal places, use the `round()` function. This takes two arguments: the number to round and the number of decimal places, so `round(2.468, 2)` will return `2.47`. To round a large number instead of a decimal number, make the second argument negative, so `round(2345, -3)` will return `2000`. Finish the code below so that it prints the first number rounded to the nearest million (six zeros) and the second number rounded to 3 decimal places."
      ]
    },
    {
      "cell_type": "code",
      "metadata": {
        "id": "4n4mYI554WH0",
        "colab": {
          "base_uri": "https://localhost:8080/"
        },
        "outputId": "12b42227-4c76-4db7-ccdc-bbd33266ec85"
      },
      "source": [
        "a = 14588132\n",
        "b = 0.006538298336\n",
        "\n",
        "# Write your code here\n",
        "print(round(a, -6))\n",
        "print(round(b, 3))\n",
        "\n",
        "\n",
        "# Only change code above this line\n",
        "import math_code_test_a as test\n",
        "test.step21(In[-1].split('# Only change code above this line')[0])"
      ],
      "execution_count": null,
      "outputs": [
        {
          "output_type": "stream",
          "name": "stdout",
          "text": [
            "15000000\n",
            "0.007\n",
            " \n",
            "Code test passed\n",
            "Go on to the next step\n"
          ]
        }
      ]
    },
    {
      "cell_type": "markdown",
      "source": [
        "#Step 22 - Fractions, Decimals, Percents"
      ],
      "metadata": {
        "id": "cVC_ENRHfIP4"
      }
    },
    {
      "cell_type": "markdown",
      "source": [
        "To convert a decimal number to a fraction, let $x$ = the number of decimal places. The basic fraction is the number (without the decimal point) over 10$^{x}$. Example: 0.2 = $\\frac{2}{10}$ and 0.34 = $\\frac{34}{100}$ and 0.567 = $\\frac{567}{1000}$. In some cases, you may be able to reduce that fraction. Because \"percent\" means \"out of 100\" the percent refers to the first two decimal places. Complete the code to ask for a decimal input, then print the fraction and the percent. Hint: The `exponent` variable gives you the number of decimal places."
      ],
      "metadata": {
        "id": "8cZnGQO4fWzS"
      }
    },
    {
      "cell_type": "code",
      "source": [
        "import math\n",
        "\n",
        "digits = input(\"Enter a decimal number to convert: \")\n",
        "exponent = int(len(digits))-1\n",
        "n = float(digits)\n",
        "\n",
        "# Change the values of these three variables\n",
        "numerator = int(n * 10**exponent)\n",
        "denominator = 10**exponent\n",
        "percent = n * 100\n",
        "\n",
        "# Output - keep this\n",
        "print(f\"The decimal is {n}\")\n",
        "print(f\"The fraction is {numerator} / {denominator}\")\n",
        "print(f\"The percent is {percent:.2f}%\")\n",
        "\n",
        "\n",
        "# Only change code above this line\n",
        "import math_code_test_a as test\n",
        "test.step22(n,numerator,denominator,percent,exponent)"
      ],
      "metadata": {
        "id": "HPyBoXwNfhWQ",
        "colab": {
          "base_uri": "https://localhost:8080/"
        },
        "outputId": "050cc09b-926f-4ce1-8622-5ae8e5b61f7c"
      },
      "execution_count": null,
      "outputs": [
        {
          "output_type": "stream",
          "name": "stdout",
          "text": [
            "Enter a decimal number to convert: .0125\n",
            "The decimal is 0.0125\n",
            "The fraction is 125 / 10000\n",
            "The percent is 1.25%\n",
            " \n",
            "Code test passed\n",
            "Go on to the next step\n"
          ]
        }
      ]
    },
    {
      "cell_type": "markdown",
      "source": [
        "#Step 23 - Defining a Function"
      ],
      "metadata": {
        "id": "Llx2Kaau8Dsz"
      }
    },
    {
      "cell_type": "markdown",
      "source": [
        "To execute a block of code with one command, define a <i>function</i> with the `def` command and the name of the function. Notice everything in the function is indented 4 spaces. Run the following code to see an example. Then change the function name to `fun()` and also change the name where you call the function. Run the code again."
      ],
      "metadata": {
        "id": "PUjA2-X_8OER"
      }
    },
    {
      "cell_type": "code",
      "source": [
        "# Define a function\n",
        "def fun():\n",
        "    print(\"This is in the function\")\n",
        "\n",
        "# Other code not in the function\n",
        "print(\"This is outside the function\")\n",
        "\n",
        "# Call the function\n",
        "fun()\n",
        "\n",
        "print(\"Back outside the function\")\n",
        "\n",
        "# Only change code above this line\n",
        "import math_code_test_a as test\n",
        "test.step23(In[-1].split('# Only change code above this line')[0])"
      ],
      "metadata": {
        "id": "5xeG1__m8h1P",
        "colab": {
          "base_uri": "https://localhost:8080/"
        },
        "outputId": "169360a5-a92b-4c76-8db0-0f957511a067"
      },
      "execution_count": null,
      "outputs": [
        {
          "output_type": "stream",
          "name": "stdout",
          "text": [
            "This is outside the function\n",
            "This is in the function\n",
            "Back outside the function\n",
            " \n",
            "Code test passed\n",
            "Go on to the next step\n"
          ]
        }
      ]
    },
    {
      "cell_type": "markdown",
      "source": [
        "# Step 24 - Function with Input"
      ],
      "metadata": {
        "id": "tMa9hDVL85sl"
      }
    },
    {
      "cell_type": "markdown",
      "source": [
        "A <i>function</i> can take input (called an \"argument\") and do something with that input. Use `def` to define the function, and include a variable in the parentheses to represent the argument. Indent everything that is a part of the function. When calling the function, pass the argument to it in the parentheses. Run the following code to see this example. Then change the `input()` variable name to `nombre` and also change that variable name in the argument when you call the function. Run the code again."
      ],
      "metadata": {
        "id": "EHxRLGSz9JqT"
      }
    },
    {
      "cell_type": "code",
      "source": [
        "# Define a function\n",
        "def greeting(name):\n",
        "    print(f\"Hello {name}\")\n",
        "\n",
        "nombre = input(\"What is your name? \\n\")\n",
        "\n",
        "# Call the function\n",
        "greeting(nombre)\n",
        "\n",
        "# Only change code above this line\n",
        "import math_code_test_a as test\n",
        "test.step24(In[-1].split('# Only change code above this line')[0])"
      ],
      "metadata": {
        "id": "RDI_QfDQ9R_q",
        "colab": {
          "base_uri": "https://localhost:8080/"
        },
        "outputId": "3169384d-66e7-427a-88e8-3b103931ee4f"
      },
      "execution_count": null,
      "outputs": [
        {
          "output_type": "stream",
          "name": "stdout",
          "text": [
            "What is your name? \n",
            "as\n",
            "Hello as\n",
            " \n",
            "Code test passed\n",
            "You can go on to the next step\n"
          ]
        }
      ]
    },
    {
      "cell_type": "markdown",
      "source": [
        "#Step 25 - Function with Two Inputs"
      ],
      "metadata": {
        "id": "d1WVETzF9-Dv"
      }
    },
    {
      "cell_type": "markdown",
      "source": [
        "To pass more than one argument to a function, separate the arguments with commas. Run the code to see the example, then add a third argument to the function and run it again. The `third` variable is already in the code. Change three lines of code to use that variable: (1) the argument when you call the function, (2) the argument when you define the function, (3) the `sum` line within in the function definition."
      ],
      "metadata": {
        "id": "VYhQLZsV-FSr"
      }
    },
    {
      "cell_type": "code",
      "source": [
        "# Define function\n",
        "def add(a,b,c):\n",
        "  # Use c for the third variable\n",
        "  sum = a+b+c\n",
        "  print(\"The sum is \", sum)\n",
        "\n",
        "first = float(input(\"Enter a number: \\n\"))\n",
        "second= float(input(\"Enter another number: \\n\"))\n",
        "third = float(input(\"Enter the third number: \\n\"))\n",
        "\n",
        "# Call the function\n",
        "add(first,second, third)\n",
        "\n",
        "# Only change code above this line\n",
        "import math_code_test_a as test\n",
        "test.step25(In[-1].split('# Only change code above this line')[0])"
      ],
      "metadata": {
        "id": "0OGuCCOz_VsV",
        "colab": {
          "base_uri": "https://localhost:8080/"
        },
        "outputId": "1c8eae8d-e239-456e-c9ac-91d6f8874617"
      },
      "execution_count": null,
      "outputs": [
        {
          "output_type": "stream",
          "name": "stdout",
          "text": [
            "Enter a number: \n",
            "1\n",
            "Enter another number: \n",
            "2\n",
            "Enter the third number: \n",
            "3\n",
            "The sum is  6.0\n",
            " \n",
            "Code test passed\n",
            "You can go on to the next step\n"
          ]
        }
      ]
    },
    {
      "cell_type": "markdown",
      "source": [
        "#Step 26 - Function with Return Value"
      ],
      "metadata": {
        "id": "xmlkOkEc-iqL"
      }
    },
    {
      "cell_type": "markdown",
      "source": [
        "Instead of including a `print()` statement within the function, the function can `return` a value right where you call it. To make the function return a value, use the `return` statement. Run the following code to see an example, then change the `return` statement to multiply by 3 instead of 2 and run the code again."
      ],
      "metadata": {
        "id": "KdLW1Msd-pPg"
      }
    },
    {
      "cell_type": "code",
      "source": [
        "# define the function\n",
        "def multiplied(number):\n",
        "    return number*3\n",
        "\n",
        "a = float(input(\"Enter a number: \\n\"))\n",
        "print(\"Your number multiplied = \", multiplied(a))\n",
        "\n",
        "\n",
        "# Only change code above this line\n",
        "import math_code_test_a as test\n",
        "test.step26(In[-1].split('# Only change code above this line')[0])"
      ],
      "metadata": {
        "id": "4JELM_kc-zMP",
        "colab": {
          "base_uri": "https://localhost:8080/"
        },
        "outputId": "6d4f7a8a-18ad-4cd1-de05-e2df3651a32a"
      },
      "execution_count": null,
      "outputs": [
        {
          "output_type": "stream",
          "name": "stdout",
          "text": [
            "Enter a number: \n",
            "4\n",
            "Your number multiplied =  12.0\n",
            " \n",
            "Code test passed\n",
            "You can go on to the next step\n"
          ]
        }
      ]
    },
    {
      "cell_type": "markdown",
      "metadata": {
        "id": "98oHO4mh4X3e"
      },
      "source": [
        "# Step 27 - Solving for x"
      ]
    },
    {
      "cell_type": "markdown",
      "metadata": {
        "id": "jYh9MRv24X3e"
      },
      "source": [
        "In Algebra, `X` often refers to the unknown number in an equation. To find the value of `x` we use algebra rules to get to `x = ` [some number]. SymPy is a Python library to work with symbolic math. The following code works to solve an equation set equal to zero. Run the code and remember to use Python syntax to enter an equation (with \"x\" as the variable) and see the solution."
      ]
    },
    {
      "cell_type": "code",
      "metadata": {
        "id": "H4HFJdc34X3e",
        "colab": {
          "base_uri": "https://localhost:8080/"
        },
        "outputId": "86234e41-c2a6-4e38-b93d-f4590b33bdad"
      },
      "source": [
        "import sympy\n",
        "from sympy import symbols\n",
        "from sympy.solvers import solve\n",
        "\n",
        "x = symbols('x')\n",
        "\n",
        "eq = input('Enter an equation to solve for x: 0 = ')\n",
        "print(len(solve(eq,x)))\n",
        "print(\"x = \", solve(eq,x)[0])\n",
        "\n",
        "\n",
        "# Only change code above this line\n",
        "import math_code_test_a as test\n",
        "test.step27(In[-1].split('# Only change code above this line')[0])\n"
      ],
      "execution_count": null,
      "outputs": [
        {
          "output_type": "stream",
          "name": "stdout",
          "text": [
            "Enter an equation to solve for x: 0 = x+4\n",
            "1\n",
            "x =  -4\n",
            "If you didn't get a syntax error, you are ready for the project\n"
          ]
        }
      ]
    },
    {
      "cell_type": "markdown",
      "source": [
        "# Step 28 - Make your own Functions"
      ],
      "metadata": {
        "id": "xtI0kyR3RpFw"
      }
    },
    {
      "cell_type": "markdown",
      "source": [
        "Building upon what you did in previous steps, define a different function for each of the following:<br>\n",
        "<ul>\n",
        "  <li>Add, subtract, multiply, divide</li>\n",
        "  <li>Detect prime numbers</li>\n",
        "  <li>Generate prime factors of a number</li>\n",
        "  <li>Simplify square roots</li>\n",
        "  <li>Solve for a variable</li>\n",
        "</ul>\n",
        "Each function should prompt the user with a question, take input, and output the answer."
      ],
      "metadata": {
        "id": "j9jLJyL-Q5T9"
      }
    },
    {
      "cell_type": "code",
      "source": [
        "import math\n",
        "from sympy import symbols\n",
        "from sympy.solvers import solve\n",
        "\n",
        "# Write your code here\n",
        "def addition(list_of_arguments):\n",
        "    if list_of_arguments == []:\n",
        "        return \"No arguments added\"\n",
        "    return math.fsum(list_of_arguments)\n",
        "\n",
        "def substraction(list_of_arguments):\n",
        "    if list_of_arguments == []:\n",
        "        return \"No arguments added\"\n",
        "    # all arguments except for the first one will be added and then substracted from the first one\n",
        "    return list_of_arguments[0] - math.fsum(list_of_arguments[1:])\n",
        "\n",
        "def multiplication(list_of_arguments):\n",
        "    if list_of_arguments == []:\n",
        "        return \"No arguments added\"\n",
        "    multiplication_output = 1\n",
        "    for argument in list_of_arguments:\n",
        "        multiplication_output = multiplication_output * argument\n",
        "    return multiplication_output\n",
        "\n",
        "def division(list_of_arguments):\n",
        "    if list_of_arguments == []:\n",
        "        return \"No arguments added\"\n",
        "    division_output = list_of_arguments[0]\n",
        "    # the first argument will be divide by all remaining\n",
        "    for argument in list_of_arguments[1:]:\n",
        "        if argument != 0:\n",
        "            division_output = division_output / argument\n",
        "        else:\n",
        "            return ZeroDivisionError(\"Error: Can't divide by zero.\")\n",
        "    return division_output\n",
        "\n",
        "def prime_or_not(number):\n",
        "    try:\n",
        "        number = int(number)\n",
        "    except ValueError:\n",
        "        return \"Invalid input\"\n",
        "    if number == 2:\n",
        "        return True\n",
        "    if number == 1 or number % 2 == 0:\n",
        "        return False\n",
        "    for test_factor in range (3, int(math.sqrt(number))+1, 2):\n",
        "        if number % test_factor == 0:\n",
        "            return False\n",
        "    return True\n",
        "\n",
        "def prime_factors(number, prime_factor_list):\n",
        "    try:\n",
        "        number = int(number)\n",
        "    except ValueError:\n",
        "        return \"Invalid input\"\n",
        "    # ending the recursion\n",
        "    if number == 1:\n",
        "        return prime_factor_list\n",
        "    # checking if number is divisable for 2\n",
        "    while number % 2 == 0:\n",
        "        prime_factor_list.append(2)\n",
        "        number //= 2\n",
        "    # limiting range to just odd numbers\n",
        "    for argument in range (3, int(math.sqrt(number))+1, 2):\n",
        "        if not prime_or_not(argument):\n",
        "            continue\n",
        "        if number % argument == 0:\n",
        "            prime_factor_list.append(argument)\n",
        "            return prime_factors(number // argument, prime_factor_list)        \n",
        "    # adding exception for prime factors greater than its root\n",
        "    if number > 2:\n",
        "        prime_factor_list.append(number)\n",
        "    return prime_factor_list\n",
        "\n",
        "def simplify_sqrt(number):\n",
        "    try:\n",
        "        number = int(number)\n",
        "    except ValueError:\n",
        "        return \"Invalid input\"\n",
        "    \n",
        "    upper_limit = math.floor(math.sqrt(number)) + 1\n",
        "    max_factor = 1\n",
        "    other_factor = 1\n",
        "\n",
        "    for maybe_factor in range(upper_limit, 0, -1):\n",
        "        if number % maybe_factor**2 == 0:\n",
        "            max_factor = maybe_factor**2\n",
        "            break\n",
        "    other_factor = number / max_factor\n",
        "    square_root = int(math.sqrt(max_factor)) \n",
        "    other_factor = int(other_factor) \n",
        "    output = square_root*sympy.sqrt(other_factor)\n",
        "    return output\n",
        "\n",
        "def solve_for_variable(eq):\n",
        "    x = symbols('x')\n",
        "    solution = solve(eq, x)\n",
        "    print(f\"Found {len(solution)} solution{'s' if len(solution) > 1 else ''}.\")\n",
        "    for s in solution:\n",
        "        print(f\"x = {s}\")\n",
        "\n",
        "# creating list of arguments\n",
        "list_of_arguments = []\n",
        "while True:\n",
        "    new_argument = input(\"Enter a number to add to a list  (\\\"q\\\" to exit): \")\n",
        "    if new_argument == \"q\": break\n",
        "    else:\n",
        "        try:\n",
        "            new_argument = float(new_argument)\n",
        "            list_of_arguments.append(new_argument)\n",
        "        except ValueError: continue      \n",
        "\n",
        "# Add, subtract, multiply, divide\n",
        "print(f\"{addition(list_of_arguments) = }\")\n",
        "print(f\"{substraction(list_of_arguments) = }\")\n",
        "print(f\"{multiplication(list_of_arguments) = }\")\n",
        "print(f\"{division(list_of_arguments) = }\")\n",
        "\n",
        "# prime testing\n",
        "while True:\n",
        "    is_it_prime = input(\"Enter a number for testing (\\\"q\\\" to exit): \")\n",
        "    if is_it_prime == \"q\":\n",
        "        break\n",
        "    print(f\"{prime_or_not(is_it_prime) = }\")\n",
        "\n",
        "# prime factors generation\n",
        "while True:\n",
        "    factor_this = input(\"Enter a number to generate prime factors (\\\"q\\\" to exit): \")\n",
        "    if factor_this == \"q\":\n",
        "        break\n",
        "    else:\n",
        "        print(f\"{prime_factors(factor_this, []) = }\")\n",
        "\n",
        "# simplifying sqrt\n",
        "while True:\n",
        "    simplify_this = input(\"Enter a number under the sqrt() to simplify (\\\"q\\\" to exit): \")\n",
        "    if simplify_this == \"q\":\n",
        "        break\n",
        "    else:\n",
        "        sympy.pprint(simplify_sqrt(simplify_this))\n",
        "        \n",
        "# solve for variables\n",
        "\n",
        "while True:\n",
        "    equation_to_solve = input(\"Enter an equation to solve (\\\"q\\\" to exit): 0 = \")\n",
        "    if equation_to_solve == \"q\":\n",
        "        break\n",
        "    else:\n",
        "        solve_for_variable(equation_to_solve)\n",
        "\n"
      ],
      "metadata": {
        "id": "wmtRDDigPrXZ",
        "colab": {
          "base_uri": "https://localhost:8080/"
        },
        "outputId": "068d38c1-4206-4afd-c9cd-c5b3e00ff094"
      },
      "execution_count": 65,
      "outputs": [
        {
          "name": "stdout",
          "output_type": "stream",
          "text": [
            "Enter a number to add to a list  (\"q\" to exit): 5\n",
            "Enter a number to add to a list  (\"q\" to exit): 3\n",
            "Enter a number to add to a list  (\"q\" to exit): q\n",
            "addition(list_of_arguments) = 8.0\n",
            "substraction(list_of_arguments) = 2.0\n",
            "multiplication(list_of_arguments) = 15.0\n",
            "division(list_of_arguments) = 1.6666666666666667\n",
            "Enter a number for testing (\"q\" to exit): 13\n",
            "prime_or_not(is_it_prime) = True\n",
            "Enter a number for testing (\"q\" to exit): q\n",
            "Enter a number to generate prime factors (\"q\" to exit): 45\n",
            "prime_factors(factor_this, []) = [3, 3, 5]\n",
            "Enter a number to generate prime factors (\"q\" to exit): q\n",
            "Enter a number under the sqrt() to simplify (\"q\" to exit): 24\n",
            "2⋅√6\n",
            "Enter a number under the sqrt() to simplify (\"q\" to exit): q\n",
            "Enter an equation to solve (\"q\" to exit): 0 = x**4 + x*3 + 5\n",
            "Found 4 solutions.\n",
            "x = -sqrt(10/(3*(9/16 + sqrt(89439)*I/144)**(1/3)) + 2*(9/16 + sqrt(89439)*I/144)**(1/3))/2 - sqrt(-2*(9/16 + sqrt(89439)*I/144)**(1/3) + 6/sqrt(10/(3*(9/16 + sqrt(89439)*I/144)**(1/3)) + 2*(9/16 + sqrt(89439)*I/144)**(1/3)) - 10/(3*(9/16 + sqrt(89439)*I/144)**(1/3)))/2\n",
            "x = sqrt(10/(3*(9/16 + sqrt(89439)*I/144)**(1/3)) + 2*(9/16 + sqrt(89439)*I/144)**(1/3))/2 - sqrt(-2*(9/16 + sqrt(89439)*I/144)**(1/3) - 6/sqrt(10/(3*(9/16 + sqrt(89439)*I/144)**(1/3)) + 2*(9/16 + sqrt(89439)*I/144)**(1/3)) - 10/(3*(9/16 + sqrt(89439)*I/144)**(1/3)))/2\n",
            "x = sqrt(-2*(9/16 + sqrt(89439)*I/144)**(1/3) - 6/sqrt(10/(3*(9/16 + sqrt(89439)*I/144)**(1/3)) + 2*(9/16 + sqrt(89439)*I/144)**(1/3)) - 10/(3*(9/16 + sqrt(89439)*I/144)**(1/3)))/2 + sqrt(10/(3*(9/16 + sqrt(89439)*I/144)**(1/3)) + 2*(9/16 + sqrt(89439)*I/144)**(1/3))/2\n",
            "x = sqrt(-2*(9/16 + sqrt(89439)*I/144)**(1/3) + 6/sqrt(10/(3*(9/16 + sqrt(89439)*I/144)**(1/3)) + 2*(9/16 + sqrt(89439)*I/144)**(1/3)) - 10/(3*(9/16 + sqrt(89439)*I/144)**(1/3)))/2 - sqrt(10/(3*(9/16 + sqrt(89439)*I/144)**(1/3)) + 2*(9/16 + sqrt(89439)*I/144)**(1/3))/2\n",
            "Enter an equation to solve (\"q\" to exit): 0 = q\n"
          ]
        }
      ]
    },
    {
      "cell_type": "markdown",
      "source": [
        "# Step 29 - Create a Menu"
      ],
      "metadata": {
        "id": "lgqRbYTWTIst"
      }
    },
    {
      "cell_type": "markdown",
      "source": [
        "Use print statements to create a menu that displays a numbered list of options. Then prompt for user input to choose an option. Use an `if` statement to print a different message for each option in the menu."
      ],
      "metadata": {
        "id": "12Ki56SNR4te"
      }
    },
    {
      "cell_type": "code",
      "source": [
        "while True:\n",
        "    print('''++Menu of operations++:\n",
        "1 - Add\n",
        "2 - subtract\n",
        "3 - multiply\n",
        "4 - divide\n",
        "5 - Detect prime numbers\n",
        "6 - Generate prime factors of a number\n",
        "7 - Simplify square roots\n",
        "8 - Solve for a variable\\n''')\n",
        "    picked_operation = input(\"Pick the operation to execute (\\\"q\\\" to exit): \")\n",
        "\n",
        "    if picked_operation == 'q':\n",
        "        break\n",
        "    \n",
        "    try:\n",
        "        picked_operation = int(picked_operation)\n",
        "    except ValueError:\n",
        "        print(\"Error: Invalid option\")\n",
        "        continue\n",
        "\n",
        "    if picked_operation < 1 or picked_operation > 8:\n",
        "        print(\"Error: Invalid option\")\n",
        "        continue\n",
        "    print('\\n')\n",
        "\n",
        "    if picked_operation == 1:\n",
        "        print(\"Addition:\")\n",
        "    elif picked_operation == 2:\n",
        "        print(\"Substraction:\")\n",
        "    elif picked_operation == 3:\n",
        "        print(\"Muliplication:\")\n",
        "    elif picked_operation == 4:\n",
        "        print(\"Division:\")\n",
        "    elif picked_operation == 5:\n",
        "        print(\"Detect prime numbers:\")\n",
        "    elif picked_operation == 6:\n",
        "        print(\"Generate prime factors of a number:\")\n",
        "    elif picked_operation == 7:\n",
        "        print(\"Simplify square roots:\")\n",
        "    elif picked_operation == 8:\n",
        "        print(\"Solve for a variable:\")\n"
      ],
      "metadata": {
        "id": "bEy0V41ASSjX",
        "colab": {
          "base_uri": "https://localhost:8080/"
        },
        "outputId": "36780d83-0fa3-4d5e-e921-de936c6f0b26"
      },
      "execution_count": null,
      "outputs": [
        {
          "name": "stdout",
          "output_type": "stream",
          "text": [
            "++Menu of operations++:\n",
            "1 - Add\n",
            "2 - subtract\n",
            "3 - multiply\n",
            "4 - divide\n",
            "5 - Detect prime numbers\n",
            "6 - Generate prime factors of a number\n",
            "7 - Simplify square roots\n",
            "8 - Solve for a variable\n",
            "\n",
            "Pick the operation to execute (\"q\" to exit): 4\n",
            "\n",
            "\n",
            "Division:\n",
            "++Menu of operations++:\n",
            "1 - Add\n",
            "2 - subtract\n",
            "3 - multiply\n",
            "4 - divide\n",
            "5 - Detect prime numbers\n",
            "6 - Generate prime factors of a number\n",
            "7 - Simplify square roots\n",
            "8 - Solve for a variable\n",
            "\n",
            "Pick the operation to execute (\"q\" to exit): 5\n",
            "\n",
            "\n",
            "Detect prime numbers:\n",
            "++Menu of operations++:\n",
            "1 - Add\n",
            "2 - subtract\n",
            "3 - multiply\n",
            "4 - divide\n",
            "5 - Detect prime numbers\n",
            "6 - Generate prime factors of a number\n",
            "7 - Simplify square roots\n",
            "8 - Solve for a variable\n",
            "\n",
            "Pick the operation to execute (\"q\" to exit): q\n"
          ]
        }
      ]
    },
    {
      "cell_type": "markdown",
      "source": [
        "# Step 30 - Certification Project 1"
      ],
      "metadata": {
        "id": "HHSMmc2yUa3N"
      }
    },
    {
      "cell_type": "markdown",
      "source": [
        "Now put it all together to build a multi-function calculator. Use the menu and the functions you created in the previous steps. Define one more function of your own. Create the menu so that the user input will run a function."
      ],
      "metadata": {
        "id": "Om-8B7mRTShM"
      }
    },
    {
      "cell_type": "code",
      "source": [
        "import math\n",
        "from sympy import symbols, Eq, solve\n",
        "\n",
        "# Write your code here\n",
        "def addition(list_of_arguments):\n",
        "    if list_of_arguments == []:\n",
        "        return \"No arguments added\"\n",
        "    return math.fsum(list_of_arguments)\n",
        "\n",
        "def substraction(list_of_arguments):\n",
        "    if list_of_arguments == []:\n",
        "        return \"No arguments added\"\n",
        "    # all arguments except for the first one will be added and then substracted from the first one\n",
        "    return list_of_arguments[0] - math.fsum(list_of_arguments[1:])\n",
        "\n",
        "def multiplication(list_of_arguments):\n",
        "    if list_of_arguments == []:\n",
        "        return \"No arguments added\"\n",
        "    multiplication_output = 1\n",
        "    for argument in list_of_arguments:\n",
        "        multiplication_output = multiplication_output * argument\n",
        "    return multiplication_output\n",
        "\n",
        "def division(list_of_arguments):\n",
        "    if list_of_arguments == []:\n",
        "        return \"No arguments added\"\n",
        "    division_output = list_of_arguments[0]\n",
        "    # the first argument will be divide by all remaining\n",
        "    for argument in list_of_arguments[1:]:\n",
        "        if argument != 0:\n",
        "            division_output = division_output / argument\n",
        "        else:\n",
        "            return ZeroDivisionError(\"Error: Can't divide by zero.\")\n",
        "    return division_output\n",
        "\n",
        "def prime_or_not(number):\n",
        "    try:\n",
        "        number = int(number)\n",
        "    except ValueError:\n",
        "        return \"Invalid input\"\n",
        "    if number == 2:\n",
        "        return True\n",
        "    if number == 1 or number % 2 == 0:\n",
        "        return False\n",
        "    for test_factor in range (3, int(math.sqrt(number))+1, 2):\n",
        "        if number % test_factor == 0:\n",
        "            return False\n",
        "    return True\n",
        "\n",
        "def prime_factors(number, prime_factor_list):\n",
        "    try:\n",
        "        number = int(number)\n",
        "    except ValueError:\n",
        "        return \"Invalid input\"\n",
        "    # ending the recursion\n",
        "    if number == 1 or number == 0:\n",
        "        return prime_factor_list\n",
        "    # checking if number is divisable for 2\n",
        "    while number % 2 == 0:\n",
        "        prime_factor_list.append(2)\n",
        "        number //= 2\n",
        "    # limiting range to just odd numbers\n",
        "    for argument in range (3, int(math.sqrt(number))+1, 2):\n",
        "        if not prime_or_not(argument):\n",
        "            continue\n",
        "        if number % argument == 0:\n",
        "            prime_factor_list.append(argument)\n",
        "            return prime_factors(number // argument, prime_factor_list)        \n",
        "    # adding exception for prime factors greater than its root\n",
        "    if number > 2:\n",
        "        prime_factor_list.append(number)\n",
        "    return prime_factor_list\n",
        "\n",
        "def simplify_sqrt(number):\n",
        "    try:\n",
        "        number = int(number)\n",
        "    except ValueError:\n",
        "        return \"Invalid input\"\n",
        "    \n",
        "    upper_limit = math.floor(math.sqrt(number)) + 1\n",
        "    max_factor = 1\n",
        "    other_factor = 1\n",
        "\n",
        "    for maybe_factor in range(upper_limit, 0, -1):\n",
        "        if number % maybe_factor**2 == 0:\n",
        "            max_factor = maybe_factor**2\n",
        "            break\n",
        "    other_factor = number / max_factor\n",
        "    square_root = int(math.sqrt(max_factor)) \n",
        "    other_factor = int(other_factor) \n",
        "    output = square_root*sympy.sqrt(other_factor)\n",
        "    return output\n",
        "\n",
        "def solve_for_variable(eq):\n",
        "    x = symbols('x')\n",
        "    solution = solve(eq, x)\n",
        "    print(f\"Found {len(solution)} solution{'s' if len(solution) > 1 else ''}.\")\n",
        "    for s in solution:\n",
        "        print(f\"x = {s}\")\n",
        "    return\n",
        "\n",
        "def highest_common_divisor(a, b):\n",
        "    if a > b:\n",
        "        denominator = a\n",
        "    else:\n",
        "        denominator = b\n",
        "\n",
        "    for test_factor in range(denominator, 0, -1): \n",
        "        if a%test_factor==0 and b%test_factor==0:\n",
        "            return f\"The highest common divisor of {a} and {b} is {test_factor}\"\n",
        "\n",
        "def solve_proportions(n1, d1, n2, d2):\n",
        "    try:\n",
        "        n1 = float(n1)\n",
        "    except ValueError:\n",
        "        pass\n",
        "    try:\n",
        "        d1 = float(d1)\n",
        "    except ValueError:\n",
        "        pass\n",
        "    try:\n",
        "        n2 = float(n2)\n",
        "    except ValueError:\n",
        "        pass\n",
        "    try:\n",
        "        d2 = float(d2)\n",
        "    except ValueError:\n",
        "        pass\n",
        "\n",
        "    # Check if 3 values are floats\n",
        "    how_many_floats = 0\n",
        "    var = [n1, d1, n2, d2]\n",
        "    for variable in var:\n",
        "        if isinstance(variable, float):\n",
        "            how_many_floats += 1\n",
        "    if how_many_floats != 3:\n",
        "        return \"Error: Invalid input\"\n",
        "\n",
        "    if isinstance(n1, str) or n1 == 0:\n",
        "        return f\"n1 = {(n2 * d1) / d2}\"\n",
        "    elif isinstance(d1, str) or d1 == 0:\n",
        "        return f\"d1 = {n1 * d2 / n2}\"\n",
        "    elif isinstance(n2, str) or n2 == 0:\n",
        "        return f\"n2 = {(n1 * d2) / d1}\"\n",
        "    elif isinstance(d2, str) or d2 == 0:\n",
        "        return f\"d2 = {n2 * d1 / n1}\"\n",
        "\n",
        "def decimal_to_fraction_percent(number):\n",
        "    try:\n",
        "        float(number)\n",
        "    except ValueError:\n",
        "        return \"Error: invalid input\"\n",
        "    exponent = int(len(number))-1\n",
        "    dec = float(number)\n",
        "    frac = f\"{int(dec * 10**exponent)} / {10**exponent}\"\n",
        "    perc = dec * 100\n",
        "    return f\"Decimal = {dec}, fraction = {frac}, percentage = {perc:.2f}%\"\n",
        "\n",
        "def fraction_to_decimal_percent(frac):\n",
        "    components = frac.split(\"/\")\n",
        "    if len(components) != 2:\n",
        "        return \"Error: invalid input\"\n",
        "    try:\n",
        "        components[0] = float(components[0])\n",
        "        components[1] = float(components[1])\n",
        "    except ValueError:\n",
        "        return \"Error: invalid input\"\n",
        "    dec = components[0] / components[1] \n",
        "    perc = dec * 100\n",
        "    return f\"Fraction = {frac}, decimal = {dec}, percentage = {perc:.2f}%\"\n",
        "\n",
        "def percent_to_decimal_fraction(perc):\n",
        "    try:\n",
        "        perc = float(perc)\n",
        "    except ValueError:\n",
        "        return \"Error: invalid input\"\n",
        "    dec = perc / 100\n",
        "    frac = f\"{perc} / {100}\"\n",
        "    return f\"Percentage = {perc}%, decimal = {dec}, fraction = {frac}\"\n",
        "    \n",
        "##############################################\n",
        "\n",
        "while True:\n",
        "    print('''++Menu of operations++:\n",
        "----------------------------------------------\n",
        "1 - Add\n",
        "2 - subtract\n",
        "3 - multiply\n",
        "4 - divide\n",
        "5 - detect prime numbers\n",
        "6 - generate prime factors of a number\n",
        "7 - simplify square roots\n",
        "8 - solve an equation for an x variable\n",
        "9 - highest common divisor\n",
        "10 - solve proportions\n",
        "11 - convert decimals to fractions and percents\n",
        "12 - convert fractions to decimals and percents\n",
        "13 - convert percents to decimals and fractions\n",
        "\\n''')\n",
        "    picked_operation = input(\"Pick the operation to execute (\\\"q\\\" to exit): \")\n",
        "\n",
        "    if picked_operation == 'q':\n",
        "        break\n",
        "    \n",
        "    try:\n",
        "        picked_operation = int(picked_operation)\n",
        "    except ValueError:\n",
        "        print(\"Error: Invalid option\")\n",
        "        continue\n",
        "    print('\\n')\n",
        "\n",
        "    if picked_operation == 1:\n",
        "        print(\"|Addition|\")\n",
        "        list_of_arguments = []\n",
        "        while True:\n",
        "            new_argument = input(\"Enter a number to add to a list  (\\\"q\\\" to exit): \")\n",
        "            if new_argument == \"q\": break\n",
        "            else:\n",
        "                try:\n",
        "                    new_argument = float(new_argument)\n",
        "                    list_of_arguments.append(new_argument)\n",
        "                except ValueError: continue      \n",
        "        print(f\"Sum of arguments: {list_of_arguments} = {addition(list_of_arguments)}\")\n",
        "        print(\"----------------------------------------------\\n\")\n",
        "\n",
        "        \n",
        "    elif picked_operation == 2:\n",
        "        print(\"|Substraction|\")\n",
        "        print(\"The first number will be the one from which the rest of the numbers are substracted from.\")\n",
        "        list_of_arguments = []\n",
        "        while True:\n",
        "            new_argument = input(\"Enter a number to add to a list  (\\\"q\\\" to exit): \")\n",
        "            if new_argument == \"q\": break\n",
        "            else:\n",
        "                try:\n",
        "                    new_argument = float(new_argument)\n",
        "                    list_of_arguments.append(new_argument)\n",
        "                except ValueError: continue      \n",
        "        print(f\"Substraction of arguments: {list_of_arguments[1:]} from {list_of_arguments[0]} = {substraction(list_of_arguments)}\")\n",
        "        print(\"----------------------------------------------\\n\")\n",
        "\n",
        "        \n",
        "    elif picked_operation == 3:\n",
        "        print(\"|Muliplication|\")\n",
        "        list_of_arguments = []\n",
        "        while True:\n",
        "            new_argument = input(\"Enter a number to add to a list  (\\\"q\\\" to exit): \")\n",
        "            if new_argument == \"q\": break\n",
        "            else:\n",
        "                try:\n",
        "                    new_argument = float(new_argument)\n",
        "                    list_of_arguments.append(new_argument)\n",
        "                except ValueError: continue      \n",
        "        print(f\"Multiplication of arguments: {list_of_arguments} = {multiplication(list_of_arguments)}\")\n",
        "        print(\"----------------------------------------------\\n\")\n",
        "\n",
        "        \n",
        "    elif picked_operation == 4:\n",
        "        print(\"|Division|\")\n",
        "        print(\"The first number will be divided by the rest of the numbers\")\n",
        "        list_of_arguments = []\n",
        "        while True:\n",
        "            new_argument = input(\"Enter a number to add to a list  (\\\"q\\\" to exit): \")\n",
        "            if new_argument == \"q\": break\n",
        "            else:\n",
        "                try:\n",
        "                    new_argument = float(new_argument)\n",
        "                    list_of_arguments.append(new_argument)\n",
        "                except ValueError: continue      \n",
        "        print(f\"Division of {list_of_arguments[0]} by {list_of_arguments[1:]} = {division(list_of_arguments)}\")\n",
        "        print(\"----------------------------------------------\\n\")\n",
        "\n",
        "\n",
        "    elif picked_operation == 5:\n",
        "        print(\"|Detect prime numbers|\")\n",
        "        while True:\n",
        "            is_it_prime = input(\"Enter a number for testing (\\\"q\\\" to exit): \")\n",
        "            if is_it_prime == \"q\":\n",
        "                break\n",
        "            print(f\"{prime_or_not(is_it_prime) = }\")\n",
        "        print(\"----------------------------------------------\\n\")\n",
        "\n",
        "\n",
        "    elif picked_operation == 6:\n",
        "        print(\"|Generate prime factors of a number|\")\n",
        "        while True:\n",
        "            factor_this = input(\"Enter a number to generate prime factors (\\\"q\\\" to exit): \")\n",
        "            if factor_this == \"q\":\n",
        "                break\n",
        "            else:\n",
        "                print(f\"The prime factors of {factor_this} are: {prime_factors(factor_this, [])}\")\n",
        "        print(\"----------------------------------------------\\n\")\n",
        "\n",
        "\n",
        "    elif picked_operation == 7:\n",
        "        print(\"|Simplify square roots|\")\n",
        "        while True:\n",
        "            simplify_this = input(\"Enter a number under the sqrt() to simplify (\\\"q\\\" to exit): \")\n",
        "            if simplify_this == \"q\":\n",
        "                break\n",
        "            else:\n",
        "                sympy.pprint(simplify_sqrt(simplify_this))\n",
        "\n",
        "\n",
        "    elif picked_operation == 8:\n",
        "        print(\"|Solve equation for x|\")\n",
        "        while True:\n",
        "            equation_to_solve = input(\"Enter an equation to solve (\\\"q\\\" to exit): 0 = \")\n",
        "            if equation_to_solve == \"q\":\n",
        "                break\n",
        "            else:\n",
        "                solve_for_variable(equation_to_solve)\n",
        "        print(\"----------------------------------------------\\n\")\n",
        "\n",
        "\n",
        "    elif picked_operation == 9:\n",
        "        print(\"|Highest Common Divisor|\")\n",
        "        number1 = input(\"Input an intiger (\\\"q\\\" to exit):\")\n",
        "        number2 = input(\"Input an intiger (\\\"q\\\" to exit):\")\n",
        "        if number1 == 'q' or number2 == 'q':\n",
        "            break   \n",
        "        try:\n",
        "            number1 = int(number1)\n",
        "            number2 = int(number2)\n",
        "        except ValueError:\n",
        "            print(\"Error: invalid input\")\n",
        "            continue\n",
        "        \n",
        "        print(highest_common_divisor(number1, number2))\n",
        "        print(\"----------------------------------------------\\n\")\n",
        "\n",
        "\n",
        "    elif picked_operation == 10:\n",
        "        print(\"|Solve proportions|\")\n",
        "        n1 = input(\"Input the first nominator (\\\"q\\\" to exit):\")\n",
        "        d1 = input(\"Input the first dominator (\\\"q\\\" to exit):\")\n",
        "        n2 = input(\"Input the second nominator (\\\"q\\\" to exit):\")\n",
        "        d2 = input(\"Input the second dominator (\\\"q\\\" to exit):\")\n",
        "        if n1 == 'q' or n2 == 'q' or d1 == 'q' or d2 == 'q':\n",
        "            break\n",
        "        print(solve_proportions(n1, d1, n2, d2))\n",
        "        print(\"----------------------------------------------\\n\")\n",
        "\n",
        "    \n",
        "    elif picked_operation == 11:\n",
        "        print(\"|Decimal to fraction and percentage|\")\n",
        "        number_to_convert = input(\"Input a float number (\\\"q\\\" to exit):\")\n",
        "        if number_to_convert == 'q':\n",
        "            break\n",
        "        print(decimal_to_fraction_percent(number_to_convert))\n",
        "        print(\"----------------------------------------------\\n\")\n",
        "\n",
        "    \n",
        "    elif picked_operation == 12:\n",
        "        print(\"|Fraction to decimal and percentage|\")\n",
        "        number_to_convert = input(\"Input a fraction separated with \\\"/\\\" (\\\"q\\\" to exit):\")\n",
        "        if number_to_convert == 'q':\n",
        "            break\n",
        "        print(fraction_to_decimal_percent(number_to_convert))\n",
        "        print(\"----------------------------------------------\\n\")\n",
        "    \n",
        "    \n",
        "    elif picked_operation == 13:\n",
        "        print(\"|Percentage to decimal and Fraction|\")\n",
        "        number_to_convert = input(\"Input a percentage without the % sign (\\\"q\\\" to exit):\")\n",
        "        if number_to_convert == 'q':\n",
        "            break\n",
        "        print(percent_to_decimal_fraction(number_to_convert))\n",
        "        print(\"----------------------------------------------\\n\")\n",
        "\n",
        "\n",
        "    else:\n",
        "        print(\"Invalid operation.\")\n",
        "        print(\"----------------------------------------------\\n\")\n",
        "\n"
      ],
      "metadata": {
        "id": "vJruVEMwUWFX",
        "colab": {
          "base_uri": "https://localhost:8080/"
        },
        "outputId": "44f55e0b-1ca0-46e0-df18-f6b6a3c8bd96"
      },
      "execution_count": null,
      "outputs": [
        {
          "name": "stdout",
          "output_type": "stream",
          "text": [
            "++Menu of operations++:\n",
            "----------------------------------------------\n",
            "1 - Add\n",
            "2 - subtract\n",
            "3 - multiply\n",
            "4 - divide\n",
            "5 - detect prime numbers\n",
            "6 - generate prime factors of a number\n",
            "7 - simplify square roots\n",
            "8 - solve an equation for an x variable\n",
            "9 - highest common divisor\n",
            "10 - solve proportions\n",
            "11 - convert decimals to fractions and percents\n",
            "12 - convert fractions to decimals and percents\n",
            "13 - convert percents to decimals and fractions\n",
            "\n",
            "\n",
            "Pick the operation to execute (\"q\" to exit): 12\n",
            "\n",
            "\n",
            "|Fraction to decimal and percentage|\n",
            "Input a fraction separated with \"/\" (\"q\" to exit):10/ 45\n",
            "Fraction = 10/ 45, decimal = 0.2222222222222222, percentage = 22.22%\n",
            "----------------------------------------------\n",
            "\n",
            "++Menu of operations++:\n",
            "----------------------------------------------\n",
            "1 - Add\n",
            "2 - subtract\n",
            "3 - multiply\n",
            "4 - divide\n",
            "5 - detect prime numbers\n",
            "6 - generate prime factors of a number\n",
            "7 - simplify square roots\n",
            "8 - solve an equation for an x variable\n",
            "9 - highest common divisor\n",
            "10 - solve proportions\n",
            "11 - convert decimals to fractions and percents\n",
            "12 - convert fractions to decimals and percents\n",
            "13 - convert percents to decimals and fractions\n",
            "\n",
            "\n",
            "Pick the operation to execute (\"q\" to exit): q\n"
          ]
        }
      ]
    }
  ]
}
